{
 "cells": [
  {
   "cell_type": "markdown",
   "metadata": {},
   "source": [
    "### First divide the industry by PrimaryIndustrySector, then divide the industry by time slice. Randomly sample in each time slice of each industry, while maintaining the positive and negative sample ratio in this industry in this time slice."
   ]
  },
  {
   "cell_type": "code",
   "execution_count": null,
   "metadata": {},
   "outputs": [],
   "source": [
    "#!/usr/bin/env python3\n",
    "# -*- coding: utf-8 -*-\n",
    "\n",
    "import pandas as pd\n",
    "import pickle\n",
    "import random\n",
    "from pathlib import Path\n",
    "\n",
    "SRC_CSV      = Path('../new_company.csv')\n",
    "COMP_RAW     = Path('../Company.csv')\n",
    "LABEL_PKL    = Path('../label_dict.pkl')\n",
    "OUT_CSV      = Path('../test_data_sampled.csv')   \n",
    "\n",
    "T_MIN, T_MAX = 177, 192    \n",
    "SAMPLE_FRAC  = 1 / 3        \n",
    "RANDOM_SEED  = 42          \n",
    "\n",
    "random.seed(RANDOM_SEED)\n",
    "\n",
    "df = pd.read_csv(SRC_CSV)          \n",
    "df = df[(df['time'] >= T_MIN) & (df['time'] <= T_MAX)].copy()\n",
    "\n",
    "comp_df = (\n",
    "    pd.read_csv(\n",
    "        COMP_RAW,\n",
    "        usecols=['CompanyID', 'PrimaryIndustrySector']   \n",
    "    )\n",
    "    .rename(columns={'PrimaryIndustrySector': 'industry'})\n",
    "    .drop_duplicates(subset='CompanyID')\n",
    "    .set_index('CompanyID')\n",
    ")\n",
    "df['industry'] = df['CompanyID'].map(comp_df['industry'])\n",
    "\n",
    "with open(LABEL_PKL, 'rb') as f:\n",
    "    label_dict = pickle.load(f)     \n",
    "df['label'] = df['CompanyID'].map(label_dict)\n",
    "\n",
    "n_industries = df['industry'].nunique(dropna=True)\n",
    "\n",
    "def sample_group(sub):\n",
    "    n = len(sub)\n",
    "    k = max(1, int(n * SAMPLE_FRAC))     \n",
    "    return sub.sample(n=k, random_state=RANDOM_SEED)\n",
    "\n",
    "sampled = (\n",
    "    df\n",
    "    .dropna(subset=['industry', 'label'])      \n",
    "    .groupby(['industry', 'time', 'label'], group_keys=False)\n",
    "    .apply(sample_group)\n",
    "    .reset_index(drop=True)\n",
    ")\n",
    "\n",
    "sampled['label'] = sampled['label'].astype(int)\n",
    "\n",
    "sampled[['time', 'CompanyID', 'label', 'industry']].to_csv(\n",
    "    OUT_CSV, index=False, encoding='utf-8'\n",
    ")\n"
   ]
  }
 ],
 "metadata": {
  "kernelspec": {
   "display_name": "VC_LLM",
   "language": "python",
   "name": "python3"
  },
  "language_info": {
   "codemirror_mode": {
    "name": "ipython",
    "version": 3
   },
   "file_extension": ".py",
   "mimetype": "text/x-python",
   "name": "python",
   "nbconvert_exporter": "python",
   "pygments_lexer": "ipython3",
   "version": "3.11.12"
  }
 },
 "nbformat": 4,
 "nbformat_minor": 2
}
